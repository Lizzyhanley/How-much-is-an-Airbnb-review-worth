{
 "cells": [
  {
   "cell_type": "code",
   "execution_count": 184,
   "metadata": {},
   "outputs": [],
   "source": [
    "%matplotlib inline\n",
    "import numpy as np\n",
    "import matplotlib.pyplot as plt\n",
    "import scipy.stats as stats            # Basic package for basic univariate regressions\n",
    "import statsmodels.api as sm           # More sophisticated package for univariate and multivariate regressions\n",
    "import statsmodels.formula.api as smf\n",
    "import pandas as pd\n",
    "import pandas_profiling\n",
    "from pandas_profiling import ProfileReport\n",
    "from re import sub\n",
    "from decimal import Decimal"
   ]
  },
  {
   "cell_type": "markdown",
   "metadata": {},
   "source": [
    "# Import Data"
   ]
  },
  {
   "cell_type": "code",
   "execution_count": 3,
   "metadata": {},
   "outputs": [],
   "source": [
    "def filereader(file):\n",
    "    f = open(file, 'r')\n",
    "    f_list = f.readlines()\n",
    "    f.close()\n",
    "    f_list = [element.replace('-','') for element in f_list]\n",
    "    f_list = [element.rstrip().split(',') for element in f_list][0:]\n",
    "    return f_list"
   ]
  },
  {
   "cell_type": "code",
   "execution_count": 4,
   "metadata": {},
   "outputs": [],
   "source": [
    "listings = filereader('listings (1).csv')\n",
    "header = listings[0] #list of all col names"
   ]
  },
  {
   "cell_type": "code",
   "execution_count": 5,
   "metadata": {},
   "outputs": [],
   "source": [
    "data = pd.read_csv('listings (1).csv') #read in csv"
   ]
  },
  {
   "cell_type": "code",
   "execution_count": 7,
   "metadata": {},
   "outputs": [],
   "source": [
    "data1 = data.values #numpy array of all records "
   ]
  },
  {
   "cell_type": "code",
   "execution_count": 216,
   "metadata": {},
   "outputs": [],
   "source": [
    "host_id = data1[:,0]\n",
    "host_verifications = data1[:, 34]\n",
    "neighbourhood_cleansed = data1[:, 39]\n",
    "property_type = data1[:, 51]\n",
    "room_type = data1[:, 52]\n",
    "accommodates = data1[:, 53]\n",
    "bathrooms = data1[:, 54]\n",
    "bedrooms = data1[:, 55]\n",
    "beds = data1[:, 56]\n",
    "amenities = data1[:, 58]\n",
    "price = data1[:, 60]\n",
    "availability_30 = data1[:, 77]\n",
    "availability_60 = data1[:, 78]\n",
    "availability_90 = data1[:, 79]\n",
    "availability_365 = data1[:, 80]\n",
    "review_scores_rating = data1[:, 86]\n",
    "review_scores_accuracy = data1[:, 87]\n",
    "review_scores_cleanliness = data1[:, 88]\n",
    "review_scores_checkin = data1[:, 89]\n",
    "review_scores_communication = data1[:, 90]\n",
    "review_scores_location = data1[:, 91]\n",
    "review_scores_value = data1[:, 92]"
   ]
  },
  {
   "cell_type": "code",
   "execution_count": null,
   "metadata": {},
   "outputs": [],
   "source": []
  },
  {
   "cell_type": "code",
   "execution_count": 9,
   "metadata": {},
   "outputs": [],
   "source": [
    "booked = 90-availability_90 # number of nights sold in the upcomming 90 days"
   ]
  },
  {
   "cell_type": "code",
   "execution_count": 10,
   "metadata": {},
   "outputs": [],
   "source": [
    "income = booked * price #income in the upcomming 90 days"
   ]
  },
  {
   "cell_type": "code",
   "execution_count": null,
   "metadata": {},
   "outputs": [],
   "source": [
    "percent_booked = booked / 90 #percentage booked in the upcomming 90 days"
   ]
  },
  {
   "cell_type": "markdown",
   "metadata": {},
   "source": [
    "#  Normalize income on neighborhood and number of people it accomodates. I used 3 groups for accomodates: 1-2, 3-5, 6+"
   ]
  },
  {
   "cell_type": "code",
   "execution_count": 93,
   "metadata": {},
   "outputs": [],
   "source": [
    "# find average income for each neighborhood and by how many folks the listing accomodates\n",
    "all_hoods = [\"Bayview\", \"Castro/Upper Market\", \"Bernal Heights\", \"Chinatown\", \"Diamond Heights\", \"Downtown/Civic Center\", \"Crocker Amazon\", \"Excelsior\", \"Glen Park\", \"Financial District\", \"Golden Gate Park\", \"Haight Ashbury\", \"Inner Sunset\", \"Inner Richmond\", \"Mission\", \"Marina\", \"Lakeshore\", \"Noe Valley\", \"North Beach\", \"Nob Hill\", \"Outer Mission\", \"Outer Richmond\", \"Ocean View\", \"Pacific Heights\", \"Outer Sunset\", \"Parkside\", \"Presidio Heights\", \"Potrero Hill\", \"Presidio\", \"Russian Hill\", \"South of Market\", \"Treasure Island/YBI\", \"Seacliff\", \"Twin Peaks\", \"Visitacion Valley\", \"Western Addition\", \"West of Twin Peaks\"]\n",
    "avg_hood_income_1_2 = {}\n",
    "avg_hood_income_3_5 = {}\n",
    "avg_hood_income_6 = {}\n",
    "# InnerSunset12_income = []\n",
    "# InnerSunset12_incomeID = []\n",
    "for index, element in enumerate(income): \n",
    "    if accommodates[index] <= 2:\n",
    "        if neighbourhood_cleansed[index] not in avg_hood_income_1_2:\n",
    "            #create in our dict {\"Bayview\":[totalprice,#listing]}\n",
    "            avg_hood_income_1_2[neighbourhood_cleansed[index]] = [element, 1]\n",
    "#             if neighbourhood_cleansed[index] == \"Inner Sunset\":\n",
    "#                 InnerSunset12_income.append(element)\n",
    "#                 InnerSunset12_incomeID.append(host_id[index])\n",
    "        else:\n",
    "            info = avg_hood_income_1_2[neighbourhood_cleansed[index]]\n",
    "            info[0] = info[0]+element\n",
    "            info[1] = info[1]+1\n",
    "            avg_hood_income_1_2[neighbourhood_cleansed[index]] = info\n",
    "#             if neighbourhood_cleansed[index] == \"Inner Sunset\":\n",
    "#                 InnerSunset12_income.append(element)\n",
    "#                 InnerSunset12_incomeID.append(host_id[index])\n",
    "            \n",
    "    if accommodates[index] > 2 and accommodates[index] < 6: \n",
    "        if neighbourhood_cleansed[index] not in avg_hood_income_3_5:\n",
    "            #create in our dict {\"Bayview\":[totalprice,#listing]}\n",
    "            avg_hood_income_3_5[neighbourhood_cleansed[index]] = [element, 1]\n",
    "        else:\n",
    "            info = avg_hood_income_3_5[neighbourhood_cleansed[index]]\n",
    "            info[0] = info[0]+element\n",
    "            info[1] = info[1]+1\n",
    "            \n",
    "    if accommodates[index] > 6: \n",
    "        if neighbourhood_cleansed[index] not in avg_hood_income_6:\n",
    "            #create in our dict {\"Bayview\":[totalprice,#listing]}\n",
    "            avg_hood_income_6[neighbourhood_cleansed[index]] = [element, 1]\n",
    "        else:\n",
    "            info = avg_hood_income_6[neighbourhood_cleansed[index]]\n",
    "            info[0] = info[0]+element\n",
    "            info[1] = info[1]+1"
   ]
  },
  {
   "cell_type": "code",
   "execution_count": 97,
   "metadata": {},
   "outputs": [],
   "source": [
    "# Normalize income metric by diving income by approiate average\n",
    "income_cleansed = np.array([])\n",
    "for index, element in enumerate(income): \n",
    "    hood = neighbourhood_cleansed[index]\n",
    "    accom = accommodates[index]\n",
    "    if accom <= 2:\n",
    "        hood_info = avg_hood_income_1_2[hood]\n",
    "        avg = hood_info[0] / hood_info[1]\n",
    "        income_cleansed = np.append(income_cleansed, element/avg)\n",
    "    elif accom > 2 and accom < 6:\n",
    "        hood_info = avg_hood_income_3_5[hood]\n",
    "        avg = hood_info[0] / hood_info[1]\n",
    "        income_cleansed = np.append(income_cleansed, element/avg)\n",
    "    elif accom > 6:\n",
    "        hood_info = avg_hood_income_6[hood]\n",
    "        avg = hood_info[0] / hood_info[1]\n",
    "        income_cleansed = np.append(income_cleansed, element/avg)\n",
    "    else:\n",
    "        income_cleansed = np.append(income_cleansed, None) #we will throw away the incomes we couldnt normalize"
   ]
  },
  {
   "cell_type": "markdown",
   "metadata": {},
   "source": [
    "# Normalize price"
   ]
  },
  {
   "cell_type": "code",
   "execution_count": 99,
   "metadata": {},
   "outputs": [
    {
     "name": "stdout",
     "output_type": "stream",
     "text": [
      "37\n"
     ]
    }
   ],
   "source": [
    "# find average income for each neighborhood and by how many folks the listing accomodates\n",
    "all_hoods = [\"Bayview\", \"Castro/Upper Market\", \"Bernal Heights\", \"Chinatown\", \"Diamond Heights\", \"Downtown/Civic Center\", \"Crocker Amazon\", \"Excelsior\", \"Glen Park\", \"Financial District\", \"Golden Gate Park\", \"Haight Ashbury\", \"Inner Sunset\", \"Inner Richmond\", \"Mission\", \"Marina\", \"Lakeshore\", \"Noe Valley\", \"North Beach\", \"Nob Hill\", \"Outer Mission\", \"Outer Richmond\", \"Ocean View\", \"Pacific Heights\", \"Outer Sunset\", \"Parkside\", \"Presidio Heights\", \"Potrero Hill\", \"Presidio\", \"Russian Hill\", \"South of Market\", \"Treasure Island/YBI\", \"Seacliff\", \"Twin Peaks\", \"Visitacion Valley\", \"Western Addition\", \"West of Twin Peaks\"]\n",
    "avg_hood_price_1_2 = {}\n",
    "avg_hood_price_3_5 = {}\n",
    "avg_hood_price_6 = {}\n",
    "\n",
    "for index, element in enumerate(price): \n",
    "    if accommodates[index] <= 2:\n",
    "        if neighbourhood_cleansed[index] not in avg_hood_price_1_2:\n",
    "            #create in our dict {\"Bayview\":[totalprice,#listing]}\n",
    "            avg_hood_price_1_2[neighbourhood_cleansed[index]] = [element, 1]\n",
    "        else:\n",
    "            info = avg_hood_price_1_2[neighbourhood_cleansed[index]]\n",
    "            info[0] = info[0]+element\n",
    "            info[1] = info[1]+1\n",
    "            avg_hood_price_1_2[neighbourhood_cleansed[index]] = info            \n",
    "    if accommodates[index] > 2 and accommodates[index] < 6: \n",
    "        if neighbourhood_cleansed[index] not in avg_hood_price_3_5:\n",
    "            #create in our dict {\"Bayview\":[totalprice,#listing]}\n",
    "            avg_hood_price_3_5[neighbourhood_cleansed[index]] = [element, 1]\n",
    "        else:\n",
    "            info = avg_hood_price_3_5[neighbourhood_cleansed[index]]\n",
    "            info[0] = info[0]+element\n",
    "            info[1] = info[1]+1\n",
    "            \n",
    "    if accommodates[index] > 6: \n",
    "        if neighbourhood_cleansed[index] not in avg_hood_price_6:\n",
    "            #create in our dict {\"Bayview\":[totalprice,#listing]}\n",
    "            avg_hood_price_6[neighbourhood_cleansed[index]] = [element, 1]\n",
    "        else:\n",
    "            info = avg_hood_price_6[neighbourhood_cleansed[index]]\n",
    "            info[0] = info[0]+element\n",
    "            info[1] = info[1]+1"
   ]
  },
  {
   "cell_type": "code",
   "execution_count": 101,
   "metadata": {},
   "outputs": [],
   "source": [
    "# Normalize income metric by diving income by approiate average\n",
    "price_cleansed = np.array([])\n",
    "for index, element in enumerate(price): \n",
    "    hood = neighbourhood_cleansed[index]\n",
    "    accom = accommodates[index]\n",
    "    if accom <= 2:\n",
    "        hood_info = avg_hood_price_1_2[hood]\n",
    "        avg = hood_info[0] / hood_info[1]\n",
    "        price_cleansed = np.append(price_cleansed, element/avg)\n",
    "    elif accom > 2 and accom < 6:\n",
    "        hood_info = avg_hood_price_3_5[hood]\n",
    "        avg = hood_info[0] / hood_info[1]\n",
    "        price_cleansed = np.append(price_cleansed, element/avg)\n",
    "    elif accom > 6:\n",
    "        hood_info = avg_hood_price_6[hood]\n",
    "        avg = hood_info[0] / hood_info[1]\n",
    "        price_cleansed = np.append(price_cleansed, element/avg)\n",
    "    else:\n",
    "        price_cleansed = np.append(price_cleansed, None) #we will throw away the incomes we couldnt normalize"
   ]
  },
  {
   "cell_type": "markdown",
   "metadata": {},
   "source": [
    "## Single Linear Regression:"
   ]
  },
  {
   "cell_type": "code",
   "execution_count": 105,
   "metadata": {},
   "outputs": [],
   "source": [
    "def reg_m(y, x):\n",
    "    X = np.hstack((np.ones((len(x),1)), x))     # adds column of ones to X to estimate the intercept\n",
    "    results = sm.OLS(y, X).fit()                # creates object containing regression results\n",
    "    return results"
   ]
  },
  {
   "cell_type": "code",
   "execution_count": 139,
   "metadata": {},
   "outputs": [],
   "source": [
    "all_fields = [bathrooms, bedrooms, beds, review_scores_rating, review_scores_accuracy, review_scores_cleanliness, review_scores_checkin, review_scores_communication, review_scores_location, review_scores_value]\n",
    "all_fields_names = [\"bathrooms\", \"bedrooms\", \"beds\", \"review_scores_rating\", \"review_scores_accuracy\", \"review_scores_cleanliness\", \"review_scores_checkin\", \"review_scores_communication\", \"review_scores_location\", \"review_scores_value\"]"
   ]
  },
  {
   "cell_type": "markdown",
   "metadata": {},
   "source": [
    "Control for variations in income due to the amenities a propety has --> only consider listings that have at least 50% of these basic amenities"
   ]
  },
  {
   "cell_type": "code",
   "execution_count": 196,
   "metadata": {},
   "outputs": [],
   "source": [
    "#amenities_control = [tv, internet, wifi, kitchen, refrigerator, dishwasher, oven, stove, washer, dryer, microwave, essentials] \n",
    "amenities_control_names = [\"tv\", \"internet\", \"wifi\", \"kitchen\", \"refrigerator\", \"dishwasher\", \"oven\", \"stove\", \"washer\", \"dryer\", \"microwave\", \"essentials\"] \n",
    "\n",
    "def amenities_controler(index):        \n",
    "    #we are already looking at a amenities record--> amenities[5]\n",
    "    record = amenities[index].lower()\n",
    "    test = 0\n",
    "    for i, amenitiy in enumerate(amenities_control_names): #does it have atleast 75%\n",
    "        if amenitiy in record:\n",
    "            test+=1\n",
    "    if test==12:\n",
    "        return True\n",
    "    else:\n",
    "        return False\n",
    "\n"
   ]
  },
  {
   "cell_type": "code",
   "execution_count": 197,
   "metadata": {},
   "outputs": [],
   "source": [
    "def reg_combos(incomeORprice, new_field):\n",
    "    #create new arrays to fill with cleaned data\n",
    "    incomeORprice1 = np.array([])\n",
    "    new_field1 = np.array([])\n",
    "    \n",
    "    #create data_cleaner array where True indicates a Null. \n",
    "    data_cleaner = pd.isnull(new_field)\n",
    "    data_cleaner_incomeORprice = pd.isnull(incomeORprice)\n",
    "    \n",
    "    #clean data set of \"new_field\" to remove nans & remove assocaited record from income\n",
    "    #i actually have an object array, not a native numpy array\n",
    "    #control for neighborhood\n",
    "    #control for ammeneties: \n",
    "    for index, element in enumerate(data_cleaner):\n",
    "        if not(element) and not(data_cleaner_incomeORprice[index]): #remove records with nan in either array\n",
    "            has_amenities = amenities_controler(index)\n",
    "            if has_amenities==True:\n",
    "                incomeORprice1 = np.append(incomeORprice1, incomeORprice[index])\n",
    "                new_field1 = np.append(new_field1, new_field[index])\n",
    "                \n",
    "\n",
    "    #Save shapes        \n",
    "    incomeORprice_shape = incomeORprice1.shape\n",
    "    new_field_shape = new_field1.shape\n",
    "    #reshape so dimessions of both arrays are identical. set both arrays to dtype=float\n",
    "    if incomeORprice_shape==new_field_shape:\n",
    "        incomeORprice1 = incomeORprice1.reshape(incomeORprice_shape[0],1)\n",
    "        new_field1 = new_field1.reshape(new_field_shape[0],1)\n",
    "        incomeORprice1 = np.array(incomeORprice1, dtype=float)\n",
    "        new_field1 = np.array(new_field1, dtype=float)\n",
    "        reg_out = reg_m(incomeORprice1, new_field1)\n",
    "        #return [regression object, incomeORprice1 array for plotting, new_field1 array for plotting ]\n",
    "        return [reg_out, incomeORprice1, new_field1]\n",
    "        "
   ]
  },
  {
   "cell_type": "markdown",
   "metadata": {},
   "source": [
    "# Example regression of review_scores_cleanliness vs price\n"
   ]
  },
  {
   "cell_type": "code",
   "execution_count": 198,
   "metadata": {},
   "outputs": [
    {
     "data": {
      "text/html": [
       "<table class=\"simpletable\">\n",
       "<caption>OLS Regression Results</caption>\n",
       "<tr>\n",
       "  <th>Dep. Variable:</th>            <td>y</td>        <th>  R-squared:         </th> <td>   0.016</td>\n",
       "</tr>\n",
       "<tr>\n",
       "  <th>Model:</th>                   <td>OLS</td>       <th>  Adj. R-squared:    </th> <td>   0.014</td>\n",
       "</tr>\n",
       "<tr>\n",
       "  <th>Method:</th>             <td>Least Squares</td>  <th>  F-statistic:       </th> <td>   8.781</td>\n",
       "</tr>\n",
       "<tr>\n",
       "  <th>Date:</th>             <td>Wed, 22 Jan 2020</td> <th>  Prob (F-statistic):</th>  <td>0.00318</td>\n",
       "</tr>\n",
       "<tr>\n",
       "  <th>Time:</th>                 <td>15:48:48</td>     <th>  Log-Likelihood:    </th> <td> -474.59</td>\n",
       "</tr>\n",
       "<tr>\n",
       "  <th>No. Observations:</th>      <td>   539</td>      <th>  AIC:               </th> <td>   953.2</td>\n",
       "</tr>\n",
       "<tr>\n",
       "  <th>Df Residuals:</th>          <td>   537</td>      <th>  BIC:               </th> <td>   961.8</td>\n",
       "</tr>\n",
       "<tr>\n",
       "  <th>Df Model:</th>              <td>     1</td>      <th>                     </th>     <td> </td>   \n",
       "</tr>\n",
       "<tr>\n",
       "  <th>Covariance Type:</th>      <td>nonrobust</td>    <th>                     </th>     <td> </td>   \n",
       "</tr>\n",
       "</table>\n",
       "<table class=\"simpletable\">\n",
       "<tr>\n",
       "    <td></td>       <th>coef</th>     <th>std err</th>      <th>t</th>      <th>P>|t|</th>  <th>[0.025</th>    <th>0.975]</th>  \n",
       "</tr>\n",
       "<tr>\n",
       "  <th>const</th> <td>   -0.0427</td> <td>    0.378</td> <td>   -0.113</td> <td> 0.910</td> <td>   -0.785</td> <td>    0.700</td>\n",
       "</tr>\n",
       "<tr>\n",
       "  <th>x1</th>    <td>    0.1152</td> <td>    0.039</td> <td>    2.963</td> <td> 0.003</td> <td>    0.039</td> <td>    0.192</td>\n",
       "</tr>\n",
       "</table>\n",
       "<table class=\"simpletable\">\n",
       "<tr>\n",
       "  <th>Omnibus:</th>       <td>342.336</td> <th>  Durbin-Watson:     </th> <td>   1.882</td>\n",
       "</tr>\n",
       "<tr>\n",
       "  <th>Prob(Omnibus):</th> <td> 0.000</td>  <th>  Jarque-Bera (JB):  </th> <td>4523.154</td>\n",
       "</tr>\n",
       "<tr>\n",
       "  <th>Skew:</th>          <td> 2.580</td>  <th>  Prob(JB):          </th> <td>    0.00</td>\n",
       "</tr>\n",
       "<tr>\n",
       "  <th>Kurtosis:</th>      <td>16.220</td>  <th>  Cond. No.          </th> <td>    147.</td>\n",
       "</tr>\n",
       "</table><br/><br/>Warnings:<br/>[1] Standard Errors assume that the covariance matrix of the errors is correctly specified."
      ],
      "text/plain": [
       "<class 'statsmodels.iolib.summary.Summary'>\n",
       "\"\"\"\n",
       "                            OLS Regression Results                            \n",
       "==============================================================================\n",
       "Dep. Variable:                      y   R-squared:                       0.016\n",
       "Model:                            OLS   Adj. R-squared:                  0.014\n",
       "Method:                 Least Squares   F-statistic:                     8.781\n",
       "Date:                Wed, 22 Jan 2020   Prob (F-statistic):            0.00318\n",
       "Time:                        15:48:48   Log-Likelihood:                -474.59\n",
       "No. Observations:                 539   AIC:                             953.2\n",
       "Df Residuals:                     537   BIC:                             961.8\n",
       "Df Model:                           1                                         \n",
       "Covariance Type:            nonrobust                                         \n",
       "==============================================================================\n",
       "                 coef    std err          t      P>|t|      [0.025      0.975]\n",
       "------------------------------------------------------------------------------\n",
       "const         -0.0427      0.378     -0.113      0.910      -0.785       0.700\n",
       "x1             0.1152      0.039      2.963      0.003       0.039       0.192\n",
       "==============================================================================\n",
       "Omnibus:                      342.336   Durbin-Watson:                   1.882\n",
       "Prob(Omnibus):                  0.000   Jarque-Bera (JB):             4523.154\n",
       "Skew:                           2.580   Prob(JB):                         0.00\n",
       "Kurtosis:                      16.220   Cond. No.                         147.\n",
       "==============================================================================\n",
       "\n",
       "Warnings:\n",
       "[1] Standard Errors assume that the covariance matrix of the errors is correctly specified.\n",
       "\"\"\""
      ]
     },
     "execution_count": 198,
     "metadata": {},
     "output_type": "execute_result"
    }
   ],
   "source": [
    "ans = reg_combos(price_cleansed, review_scores_cleanliness)\n",
    "regout = ans[0]\n",
    "y = ans[1]\n",
    "x = ans[2]\n",
    "regout.summary()"
   ]
  },
  {
   "cell_type": "code",
   "execution_count": 199,
   "metadata": {},
   "outputs": [
    {
     "data": {
      "image/png": "[encoded data removed]",
      "text/plain": [
       "<Figure size 432x288 with 1 Axes>"
      ]
     },
     "metadata": {
      "needs_background": "light"
     },
     "output_type": "display_data"
    }
   ],
   "source": [
    "plt.plot(x, y, '*', label='original data')\n",
    "plt.plot(x, reg_out.params[0] + reg_out.params[1]*x, 'r', label='fitted line')\n",
    "plt.legend()\n",
    "plt.show()"
   ]
  },
  {
   "cell_type": "markdown",
   "metadata": {},
   "source": [
    "# Price vs...\n",
    "Finding the relationship of pirce in the upcomming 90 days with 10 fields: bathrooms, bedrooms, beds, review_scores_rating, review_scores_accuracy, review_scores_cleanliness, review_scores_checkin, review_scores_communication, review_scores_location, review_scores_value"
   ]
  },
  {
   "cell_type": "code",
   "execution_count": 200,
   "metadata": {},
   "outputs": [
    {
     "name": "stdout",
     "output_type": "stream",
     "text": [
      "bathrooms     0.0020\n",
      "bedrooms      0.0346\n",
      "beds          0.0138\n",
      "review_scores_rating  0.0124\n",
      "review_scores_accuracy  0.0087\n",
      "review_scores_cleanliness  0.0161\n",
      "review_scores_checkin  0.0026\n",
      "review_scores_communication  0.0014\n",
      "review_scores_location  0.0028\n",
      "review_scores_value  0.0004\n"
     ]
    }
   ],
   "source": [
    "r2_price_singleReg = []\n",
    "for i, new_field in enumerate(all_fields):\n",
    "    reg_out_all = reg_combos(price_cleansed, new_field)\n",
    "    r2_price_singleReg.append(reg_out_all)\n",
    "    #print(\"--------------------\")\n",
    "    #print(\"--------------------\")\n",
    "    #print(\"This is a single regression of price vs\".upper(), all_fields_names[i].upper())\n",
    "    \n",
    "    #print(reg_out_all[0].summary()) ### -->> code to print full regression summary\n",
    "    \n",
    "    \n",
    "    print(\"{:<12} {:7.4f}\".format(all_fields_names[i], reg_out_all[0].rsquared)) ### -->> code to print just r2 values\n",
    "    \n",
    "#     y = reg_out_all[1]\n",
    "#     x = reg_out_all[2]\n",
    "#     plt.plot(x, y, '*', label='original data')\n",
    "#     plt.plot(x, reg_out.params[0] + reg_out.params[1]*x, 'r', label='fitted line')\n",
    "#     plt.legend()\n",
    "#     plt.show()"
   ]
  },
  {
   "cell_type": "markdown",
   "metadata": {},
   "source": [
    "# % Income vs...\n",
    "Finding the relationship of income in the upcomming 90 days with 10 fields: accommodates, bathrooms, bedrooms, beds, review_scores_rating, review_scores_accuracy, review_scores_cleanliness, review_scores_checkin, review_scores_communication, review_scores_location, review_scores_value"
   ]
  },
  {
   "cell_type": "code",
   "execution_count": 153,
   "metadata": {},
   "outputs": [
    {
     "name": "stdout",
     "output_type": "stream",
     "text": [
      "bathrooms     0.0043\n",
      "bedrooms      0.0187\n",
      "beds          0.0079\n",
      "review_scores_rating  0.0071\n",
      "review_scores_accuracy  0.0070\n",
      "review_scores_cleanliness  0.0023\n",
      "review_scores_checkin  0.0158\n",
      "review_scores_communication  0.0037\n",
      "review_scores_location  0.0012\n",
      "review_scores_value  0.0028\n"
     ]
    }
   ],
   "source": [
    "r2_income_singleReg = []\n",
    "for i, new_field in enumerate(all_fields):\n",
    "    reg_out_all = reg_combos(income_cleansed, new_field)\n",
    "    r2_income_singleReg.append(reg_out_all)\n",
    "#     print(\"--------------------\")\n",
    "#     print(\"--------------------\")\n",
    "#     print(\"This is a single regression of price vs\".upper(), all_fields_names[i].upper())\n",
    "    \n",
    "#     print(reg_out_all[0].summary()) ### -->> code to print full regression summary\n",
    "    \n",
    "    print(\"{:<12} {:7.4f}\".format(all_fields_names[i], reg_out_all[0].rsquared)) ### -->> code to print just r2 values\n"
   ]
  },
  {
   "cell_type": "markdown",
   "metadata": {},
   "source": [
    "# Multiple Regression with different review metrics"
   ]
  },
  {
   "cell_type": "code",
   "execution_count": 154,
   "metadata": {},
   "outputs": [],
   "source": [
    "review_scores_rating = data1[:, 86]\n",
    "review_scores_accuracy = data1[:, 87]\n",
    "review_scores_cleanliness = data1[:, 88]\n",
    "review_scores_checkin = data1[:, 89]\n",
    "review_scores_communication = data1[:, 90]\n",
    "review_scores_location = data1[:, 91]\n",
    "review_scores_value = data1[:, 92]"
   ]
  },
  {
   "cell_type": "code",
   "execution_count": 291,
   "metadata": {},
   "outputs": [],
   "source": [
    "def mult_reg(incomeORprice):\n",
    "    #create new arrays to fill with cleaned data\n",
    "    income1 = np.array([])\n",
    "    new_field1 = np.array([])\n",
    "    new_field2 = np.array([])\n",
    "    new_field3 = np.array([])\n",
    "    new_field4 = np.array([])\n",
    "    new_field5 = np.array([])\n",
    "    new_field6 = np.array([])\n",
    "    new_field7 = np.array([])\n",
    "    #create data_cleaner array where True indicates a Null. \n",
    "    data_cleaner0 = pd.isnull(incomeORprice)\n",
    "    data_cleaner1 = pd.isnull(review_scores_rating)\n",
    "    data_cleaner2 = pd.isnull(review_scores_accuracy)\n",
    "    data_cleaner3 = pd.isnull(review_scores_cleanliness)\n",
    "    data_cleaner4 = pd.isnull(review_scores_checkin)\n",
    "    data_cleaner5 = pd.isnull(review_scores_communication)\n",
    "    data_cleaner6 = pd.isnull(review_scores_location)\n",
    "    data_cleaner7 = pd.isnull(review_scores_value)\n",
    "    \n",
    "    #remove nulls\n",
    "    for index, element in enumerate(data_cleaner0):\n",
    "            if not(element) and not(data_cleaner1[index])and not(data_cleaner2[index]) and not(data_cleaner3[index]) and not(data_cleaner4[index]) and not(data_cleaner5[index]) and not(data_cleaner6[index]) and not(data_cleaner7[index]):\n",
    "                income1 = np.append(income1, incomeORprice[index])\n",
    "                new_field1 = np.append(new_field1, review_scores_rating[index])\n",
    "                new_field2 = np.append(new_field2, review_scores_accuracy[index])\n",
    "                new_field3 = np.append(new_field3, review_scores_cleanliness[index])\n",
    "                new_field4 = np.append(new_field4, review_scores_checkin[index])\n",
    "                new_field5 = np.append(new_field5, review_scores_communication[index])\n",
    "                new_field6 = np.append(new_field6, review_scores_location[index])\n",
    "                new_field7 = np.append(new_field7, review_scores_value[index])\n",
    "    \n",
    "    #Save shapes        \n",
    "    income_shape = income1.shape\n",
    "    new_field_shape = new_field1.shape\n",
    "    income1 = income1.reshape(income_shape[0],1)\n",
    "    new_field1 = new_field1.reshape(new_field_shape[0],1)\n",
    "    new_field2 = new_field2.reshape(new_field_shape[0],1)\n",
    "    new_field3 = new_field3.reshape(new_field_shape[0],1)\n",
    "    new_field4 = new_field4.reshape(new_field_shape[0],1)\n",
    "    new_field5 = new_field5.reshape(new_field_shape[0],1)\n",
    "    new_field6 = new_field6.reshape(new_field_shape[0],1)\n",
    "    new_field7 = new_field7.reshape(new_field_shape[0],1)\n",
    "    income1 = np.array(income1, dtype=float)\n",
    "    new_field1 = np.array(new_field1, dtype=float)\n",
    "    new_field2 = np.array(new_field2, dtype=float)\n",
    "    new_field3 = np.array(new_field2, dtype=float)\n",
    "    new_field4 = np.array(new_field2, dtype=float)\n",
    "    new_field5 = np.array(new_field2, dtype=float)\n",
    "    new_field6 = np.array(new_field2, dtype=float)\n",
    "    new_field7 = np.array(new_field2, dtype=float)\n",
    "    \n",
    "    W = np.hstack((new_field1, new_field2, new_field3, new_field4, new_field5, new_field6, new_field7)) \n",
    "    reg_out = reg_m(income1, W)\n",
    "    return reg_out"
   ]
  },
  {
   "cell_type": "markdown",
   "metadata": {},
   "source": [
    "# Multiple Regression of Price vs every review measure"
   ]
  },
  {
   "cell_type": "code",
   "execution_count": 214,
   "metadata": {},
   "outputs": [
    {
     "data": {
      "text/html": [
       "<table class=\"simpletable\">\n",
       "<caption>OLS Regression Results</caption>\n",
       "<tr>\n",
       "  <th>Dep. Variable:</th>            <td>y</td>        <th>  R-squared:         </th> <td>   0.006</td> \n",
       "</tr>\n",
       "<tr>\n",
       "  <th>Model:</th>                   <td>OLS</td>       <th>  Adj. R-squared:    </th> <td>   0.006</td> \n",
       "</tr>\n",
       "<tr>\n",
       "  <th>Method:</th>             <td>Least Squares</td>  <th>  F-statistic:       </th> <td>   17.71</td> \n",
       "</tr>\n",
       "<tr>\n",
       "  <th>Date:</th>             <td>Wed, 22 Jan 2020</td> <th>  Prob (F-statistic):</th> <td>2.15e-08</td> \n",
       "</tr>\n",
       "<tr>\n",
       "  <th>Time:</th>                 <td>20:05:32</td>     <th>  Log-Likelihood:    </th> <td> -9130.7</td> \n",
       "</tr>\n",
       "<tr>\n",
       "  <th>No. Observations:</th>      <td>  6043</td>      <th>  AIC:               </th> <td>1.827e+04</td>\n",
       "</tr>\n",
       "<tr>\n",
       "  <th>Df Residuals:</th>          <td>  6040</td>      <th>  BIC:               </th> <td>1.829e+04</td>\n",
       "</tr>\n",
       "<tr>\n",
       "  <th>Df Model:</th>              <td>     2</td>      <th>                     </th>     <td> </td>    \n",
       "</tr>\n",
       "<tr>\n",
       "  <th>Covariance Type:</th>      <td>nonrobust</td>    <th>                     </th>     <td> </td>    \n",
       "</tr>\n",
       "</table>\n",
       "<table class=\"simpletable\">\n",
       "<tr>\n",
       "    <td></td>       <th>coef</th>     <th>std err</th>      <th>t</th>      <th>P>|t|</th>  <th>[0.025</th>    <th>0.975]</th>  \n",
       "</tr>\n",
       "<tr>\n",
       "  <th>const</th> <td>   -0.1030</td> <td>    0.204</td> <td>   -0.506</td> <td> 0.613</td> <td>   -0.502</td> <td>    0.296</td>\n",
       "</tr>\n",
       "<tr>\n",
       "  <th>x1</th>    <td>    0.0113</td> <td>    0.003</td> <td>    4.110</td> <td> 0.000</td> <td>    0.006</td> <td>    0.017</td>\n",
       "</tr>\n",
       "<tr>\n",
       "  <th>x2</th>    <td>    0.0002</td> <td>    0.005</td> <td>    0.043</td> <td> 0.966</td> <td>   -0.009</td> <td>    0.009</td>\n",
       "</tr>\n",
       "<tr>\n",
       "  <th>x3</th>    <td>    0.0002</td> <td>    0.005</td> <td>    0.043</td> <td> 0.966</td> <td>   -0.009</td> <td>    0.009</td>\n",
       "</tr>\n",
       "<tr>\n",
       "  <th>x4</th>    <td>    0.0002</td> <td>    0.005</td> <td>    0.043</td> <td> 0.966</td> <td>   -0.009</td> <td>    0.009</td>\n",
       "</tr>\n",
       "<tr>\n",
       "  <th>x5</th>    <td>    0.0002</td> <td>    0.005</td> <td>    0.043</td> <td> 0.966</td> <td>   -0.009</td> <td>    0.009</td>\n",
       "</tr>\n",
       "<tr>\n",
       "  <th>x6</th>    <td>    0.0002</td> <td>    0.005</td> <td>    0.043</td> <td> 0.966</td> <td>   -0.009</td> <td>    0.009</td>\n",
       "</tr>\n",
       "<tr>\n",
       "  <th>x7</th>    <td>    0.0002</td> <td>    0.005</td> <td>    0.043</td> <td> 0.966</td> <td>   -0.009</td> <td>    0.009</td>\n",
       "</tr>\n",
       "</table>\n",
       "<table class=\"simpletable\">\n",
       "<tr>\n",
       "  <th>Omnibus:</th>       <td>13749.750</td> <th>  Durbin-Watson:     </th>   <td>   1.890</td>   \n",
       "</tr>\n",
       "<tr>\n",
       "  <th>Prob(Omnibus):</th>  <td> 0.000</td>   <th>  Jarque-Bera (JB):  </th> <td>126451901.542</td>\n",
       "</tr>\n",
       "<tr>\n",
       "  <th>Skew:</th>           <td>21.525</td>   <th>  Prob(JB):          </th>   <td>    0.00</td>   \n",
       "</tr>\n",
       "<tr>\n",
       "  <th>Kurtosis:</th>       <td>710.358</td>  <th>  Cond. No.          </th>   <td>1.62e+82</td>   \n",
       "</tr>\n",
       "</table><br/><br/>Warnings:<br/>[1] Standard Errors assume that the covariance matrix of the errors is correctly specified.<br/>[2] The smallest eigenvalue is 2.23e-157. This might indicate that there are<br/>strong multicollinearity problems or that the design matrix is singular."
      ],
      "text/plain": [
       "<class 'statsmodels.iolib.summary.Summary'>\n",
       "\"\"\"\n",
       "                            OLS Regression Results                            \n",
       "==============================================================================\n",
       "Dep. Variable:                      y   R-squared:                       0.006\n",
       "Model:                            OLS   Adj. R-squared:                  0.006\n",
       "Method:                 Least Squares   F-statistic:                     17.71\n",
       "Date:                Wed, 22 Jan 2020   Prob (F-statistic):           2.15e-08\n",
       "Time:                        20:05:32   Log-Likelihood:                -9130.7\n",
       "No. Observations:                6043   AIC:                         1.827e+04\n",
       "Df Residuals:                    6040   BIC:                         1.829e+04\n",
       "Df Model:                           2                                         \n",
       "Covariance Type:            nonrobust                                         \n",
       "==============================================================================\n",
       "                 coef    std err          t      P>|t|      [0.025      0.975]\n",
       "------------------------------------------------------------------------------\n",
       "const         -0.1030      0.204     -0.506      0.613      -0.502       0.296\n",
       "x1             0.0113      0.003      4.110      0.000       0.006       0.017\n",
       "x2             0.0002      0.005      0.043      0.966      -0.009       0.009\n",
       "x3             0.0002      0.005      0.043      0.966      -0.009       0.009\n",
       "x4             0.0002      0.005      0.043      0.966      -0.009       0.009\n",
       "x5             0.0002      0.005      0.043      0.966      -0.009       0.009\n",
       "x6             0.0002      0.005      0.043      0.966      -0.009       0.009\n",
       "x7             0.0002      0.005      0.043      0.966      -0.009       0.009\n",
       "==============================================================================\n",
       "Omnibus:                    13749.750   Durbin-Watson:                   1.890\n",
       "Prob(Omnibus):                  0.000   Jarque-Bera (JB):        126451901.542\n",
       "Skew:                          21.525   Prob(JB):                         0.00\n",
       "Kurtosis:                     710.358   Cond. No.                     1.62e+82\n",
       "==============================================================================\n",
       "\n",
       "Warnings:\n",
       "[1] Standard Errors assume that the covariance matrix of the errors is correctly specified.\n",
       "[2] The smallest eigenvalue is 2.23e-157. This might indicate that there are\n",
       "strong multicollinearity problems or that the design matrix is singular.\n",
       "\"\"\""
      ]
     },
     "execution_count": 214,
     "metadata": {},
     "output_type": "execute_result"
    }
   ],
   "source": [
    "#multiple regression for every listing\n",
    "a = mult_reg(price_cleansed).summary()\n",
    "a"
   ]
  },
  {
   "cell_type": "markdown",
   "metadata": {},
   "source": [
    "# Multiple Regression of Income vs every review measure"
   ]
  },
  {
   "cell_type": "code",
   "execution_count": 171,
   "metadata": {},
   "outputs": [
    {
     "data": {
      "text/html": [
       "<table class=\"simpletable\">\n",
       "<caption>OLS Regression Results</caption>\n",
       "<tr>\n",
       "  <th>Dep. Variable:</th>            <td>y</td>        <th>  R-squared:         </th> <td>   0.011</td> \n",
       "</tr>\n",
       "<tr>\n",
       "  <th>Model:</th>                   <td>OLS</td>       <th>  Adj. R-squared:    </th> <td>   0.011</td> \n",
       "</tr>\n",
       "<tr>\n",
       "  <th>Method:</th>             <td>Least Squares</td>  <th>  F-statistic:       </th> <td>   34.58</td> \n",
       "</tr>\n",
       "<tr>\n",
       "  <th>Date:</th>             <td>Wed, 22 Jan 2020</td> <th>  Prob (F-statistic):</th> <td>1.17e-15</td> \n",
       "</tr>\n",
       "<tr>\n",
       "  <th>Time:</th>                 <td>15:19:53</td>     <th>  Log-Likelihood:    </th> <td> -10706.</td> \n",
       "</tr>\n",
       "<tr>\n",
       "  <th>No. Observations:</th>      <td>  6043</td>      <th>  AIC:               </th> <td>2.142e+04</td>\n",
       "</tr>\n",
       "<tr>\n",
       "  <th>Df Residuals:</th>          <td>  6040</td>      <th>  BIC:               </th> <td>2.144e+04</td>\n",
       "</tr>\n",
       "<tr>\n",
       "  <th>Df Model:</th>              <td>     2</td>      <th>                     </th>     <td> </td>    \n",
       "</tr>\n",
       "<tr>\n",
       "  <th>Covariance Type:</th>      <td>nonrobust</td>    <th>                     </th>     <td> </td>    \n",
       "</tr>\n",
       "</table>\n",
       "<table class=\"simpletable\">\n",
       "<tr>\n",
       "    <td></td>       <th>coef</th>     <th>std err</th>      <th>t</th>      <th>P>|t|</th>  <th>[0.025</th>    <th>0.975]</th>  \n",
       "</tr>\n",
       "<tr>\n",
       "  <th>const</th> <td>   -0.9736</td> <td>    0.264</td> <td>   -3.686</td> <td> 0.000</td> <td>   -1.491</td> <td>   -0.456</td>\n",
       "</tr>\n",
       "<tr>\n",
       "  <th>x1</th>    <td>    0.0194</td> <td>    0.004</td> <td>    5.446</td> <td> 0.000</td> <td>    0.012</td> <td>    0.026</td>\n",
       "</tr>\n",
       "<tr>\n",
       "  <th>x2</th>    <td>    0.0029</td> <td>    0.006</td> <td>    0.464</td> <td> 0.643</td> <td>   -0.009</td> <td>    0.015</td>\n",
       "</tr>\n",
       "<tr>\n",
       "  <th>x3</th>    <td>    0.0029</td> <td>    0.006</td> <td>    0.464</td> <td> 0.643</td> <td>   -0.009</td> <td>    0.015</td>\n",
       "</tr>\n",
       "<tr>\n",
       "  <th>x4</th>    <td>    0.0029</td> <td>    0.006</td> <td>    0.464</td> <td> 0.643</td> <td>   -0.009</td> <td>    0.015</td>\n",
       "</tr>\n",
       "<tr>\n",
       "  <th>x5</th>    <td>    0.0029</td> <td>    0.006</td> <td>    0.464</td> <td> 0.643</td> <td>   -0.009</td> <td>    0.015</td>\n",
       "</tr>\n",
       "<tr>\n",
       "  <th>x6</th>    <td>    0.0029</td> <td>    0.006</td> <td>    0.464</td> <td> 0.643</td> <td>   -0.009</td> <td>    0.015</td>\n",
       "</tr>\n",
       "<tr>\n",
       "  <th>x7</th>    <td>    0.0029</td> <td>    0.006</td> <td>    0.464</td> <td> 0.643</td> <td>   -0.009</td> <td>    0.015</td>\n",
       "</tr>\n",
       "</table>\n",
       "<table class=\"simpletable\">\n",
       "<tr>\n",
       "  <th>Omnibus:</th>       <td>11347.048</td> <th>  Durbin-Watson:     </th>   <td>   1.862</td>  \n",
       "</tr>\n",
       "<tr>\n",
       "  <th>Prob(Omnibus):</th>  <td> 0.000</td>   <th>  Jarque-Bera (JB):  </th> <td>32644562.347</td>\n",
       "</tr>\n",
       "<tr>\n",
       "  <th>Skew:</th>           <td>13.980</td>   <th>  Prob(JB):          </th>   <td>    0.00</td>  \n",
       "</tr>\n",
       "<tr>\n",
       "  <th>Kurtosis:</th>       <td>361.981</td>  <th>  Cond. No.          </th>   <td>1.62e+82</td>  \n",
       "</tr>\n",
       "</table><br/><br/>Warnings:<br/>[1] Standard Errors assume that the covariance matrix of the errors is correctly specified.<br/>[2] The smallest eigenvalue is 2.23e-157. This might indicate that there are<br/>strong multicollinearity problems or that the design matrix is singular."
      ],
      "text/plain": [
       "<class 'statsmodels.iolib.summary.Summary'>\n",
       "\"\"\"\n",
       "                            OLS Regression Results                            \n",
       "==============================================================================\n",
       "Dep. Variable:                      y   R-squared:                       0.011\n",
       "Model:                            OLS   Adj. R-squared:                  0.011\n",
       "Method:                 Least Squares   F-statistic:                     34.58\n",
       "Date:                Wed, 22 Jan 2020   Prob (F-statistic):           1.17e-15\n",
       "Time:                        15:19:53   Log-Likelihood:                -10706.\n",
       "No. Observations:                6043   AIC:                         2.142e+04\n",
       "Df Residuals:                    6040   BIC:                         2.144e+04\n",
       "Df Model:                           2                                         \n",
       "Covariance Type:            nonrobust                                         \n",
       "==============================================================================\n",
       "                 coef    std err          t      P>|t|      [0.025      0.975]\n",
       "------------------------------------------------------------------------------\n",
       "const         -0.9736      0.264     -3.686      0.000      -1.491      -0.456\n",
       "x1             0.0194      0.004      5.446      0.000       0.012       0.026\n",
       "x2             0.0029      0.006      0.464      0.643      -0.009       0.015\n",
       "x3             0.0029      0.006      0.464      0.643      -0.009       0.015\n",
       "x4             0.0029      0.006      0.464      0.643      -0.009       0.015\n",
       "x5             0.0029      0.006      0.464      0.643      -0.009       0.015\n",
       "x6             0.0029      0.006      0.464      0.643      -0.009       0.015\n",
       "x7             0.0029      0.006      0.464      0.643      -0.009       0.015\n",
       "==============================================================================\n",
       "Omnibus:                    11347.048   Durbin-Watson:                   1.862\n",
       "Prob(Omnibus):                  0.000   Jarque-Bera (JB):         32644562.347\n",
       "Skew:                          13.980   Prob(JB):                         0.00\n",
       "Kurtosis:                     361.981   Cond. No.                     1.62e+82\n",
       "==============================================================================\n",
       "\n",
       "Warnings:\n",
       "[1] Standard Errors assume that the covariance matrix of the errors is correctly specified.\n",
       "[2] The smallest eigenvalue is 2.23e-157. This might indicate that there are\n",
       "strong multicollinearity problems or that the design matrix is singular.\n",
       "\"\"\""
      ]
     },
     "execution_count": 171,
     "metadata": {},
     "output_type": "execute_result"
    }
   ],
   "source": [
    "#multiple regression for every listing\n",
    "a = mult_reg(income_cleansed).summary()\n",
    "a"
   ]
  },
  {
   "cell_type": "markdown",
   "metadata": {},
   "source": [
    "# Summary Stats using pandas_profiling"
   ]
  },
  {
   "cell_type": "code",
   "execution_count": null,
   "metadata": {},
   "outputs": [],
   "source": [
    "df = pd.read_csv('listings (1).csv') #read in csv"
   ]
  },
  {
   "cell_type": "code",
   "execution_count": null,
   "metadata": {},
   "outputs": [],
   "source": [
    "df.head()"
   ]
  },
  {
   "cell_type": "code",
   "execution_count": null,
   "metadata": {},
   "outputs": [],
   "source": [
    "df.describe()"
   ]
  },
  {
   "cell_type": "code",
   "execution_count": null,
   "metadata": {},
   "outputs": [],
   "source": [
    "profile = ProfileReport(df, title='Pandas Profiling Report', html={'style':{'full_width':True}})"
   ]
  },
  {
   "cell_type": "code",
   "execution_count": null,
   "metadata": {},
   "outputs": [],
   "source": [
    "report = ProfileReport(df)\n",
    "report.to_file('profile_report.html')"
   ]
  },
  {
   "cell_type": "markdown",
   "metadata": {},
   "source": [
    "# Polynomial Regressions with 2 degress of freedom"
   ]
  },
  {
   "cell_type": "code",
   "execution_count": 185,
   "metadata": {},
   "outputs": [],
   "source": [
    "def reg_combos(incomeORprice, new_field):\n",
    "    #create new arrays to fill with cleaned data\n",
    "    incomeORprice1 = np.array([])\n",
    "    new_field1 = np.array([])\n",
    "    \n",
    "    #create data_cleaner array where True indicates a Null. \n",
    "    data_cleaner = pd.isnull(new_field)\n",
    "    data_cleaner_incomeORprice = pd.isnull(incomeORprice)\n",
    "    \n",
    "    #clean data set of \"new_field\" to remove nans & remove assocaited record from income\n",
    "    #i actually have an object array, not a native numpy array\n",
    "    #control for neighborhood\n",
    "    #control for ammeneties: \n",
    "    for index, element in enumerate(data_cleaner):\n",
    "        if not(element) and not(data_cleaner_incomeORprice[index]): #remove records with nan in either array\n",
    "            has_amenities = amenities_controler(index)\n",
    "            if has_amenities==True:\n",
    "                incomeORprice1 = np.append(incomeORprice1, incomeORprice[index])\n",
    "                new_field1 = np.append(new_field1, new_field[index])\n",
    "                \n",
    "\n",
    "    \n",
    "    #data must be one dimensional. set both arrays to dtype=float\n",
    "    \n",
    "    incomeORprice1 = np.array(incomeORprice1, dtype=float)\n",
    "    new_field1 = np.array(new_field1, dtype=float)\n",
    "\n",
    "    degree = 2\n",
    "\n",
    "    df = pd.DataFrame(columns=['y', 'x'])\n",
    "    df['x'] = new_field1\n",
    "    df['y'] = incomeORprice1\n",
    "\n",
    "    weights = np.polyfit(new_field1, incomeORprice1, degree)\n",
    "    model = np.poly1d(weights)\n",
    "    results = smf.ols(formula='y ~ model(x)', data=df).fit()\n",
    "\n",
    "\n",
    "        #return [regression object, incomeORprice1 array for plotting, new_field1 array for plotting ]\n",
    "    return [results, incomeORprice1, new_field1]\n",
    "        "
   ]
  },
  {
   "cell_type": "markdown",
   "metadata": {},
   "source": [
    "# Example polynomial regression with price and review_scores_cleanliness"
   ]
  },
  {
   "cell_type": "code",
   "execution_count": 192,
   "metadata": {},
   "outputs": [
    {
     "data": {
      "text/html": [
       "<table class=\"simpletable\">\n",
       "<caption>OLS Regression Results</caption>\n",
       "<tr>\n",
       "  <th>Dep. Variable:</th>            <td>y</td>        <th>  R-squared:         </th> <td>   0.022</td>\n",
       "</tr>\n",
       "<tr>\n",
       "  <th>Model:</th>                   <td>OLS</td>       <th>  Adj. R-squared:    </th> <td>   0.020</td>\n",
       "</tr>\n",
       "<tr>\n",
       "  <th>Method:</th>             <td>Least Squares</td>  <th>  F-statistic:       </th> <td>   11.85</td>\n",
       "</tr>\n",
       "<tr>\n",
       "  <th>Date:</th>             <td>Wed, 22 Jan 2020</td> <th>  Prob (F-statistic):</th> <td>0.000623</td>\n",
       "</tr>\n",
       "<tr>\n",
       "  <th>Time:</th>                 <td>15:43:59</td>     <th>  Log-Likelihood:    </th> <td> -473.08</td>\n",
       "</tr>\n",
       "<tr>\n",
       "  <th>No. Observations:</th>      <td>   539</td>      <th>  AIC:               </th> <td>   950.2</td>\n",
       "</tr>\n",
       "<tr>\n",
       "  <th>Df Residuals:</th>          <td>   537</td>      <th>  BIC:               </th> <td>   958.7</td>\n",
       "</tr>\n",
       "<tr>\n",
       "  <th>Df Model:</th>              <td>     1</td>      <th>                     </th>     <td> </td>   \n",
       "</tr>\n",
       "<tr>\n",
       "  <th>Covariance Type:</th>      <td>nonrobust</td>    <th>                     </th>     <td> </td>   \n",
       "</tr>\n",
       "</table>\n",
       "<table class=\"simpletable\">\n",
       "<tr>\n",
       "      <td></td>         <th>coef</th>     <th>std err</th>      <th>t</th>      <th>P>|t|</th>  <th>[0.025</th>    <th>0.975]</th>  \n",
       "</tr>\n",
       "<tr>\n",
       "  <th>Intercept</th> <td> -1.75e-14</td> <td>    0.313</td> <td>-5.59e-14</td> <td> 1.000</td> <td>   -0.615</td> <td>    0.615</td>\n",
       "</tr>\n",
       "<tr>\n",
       "  <th>model(x)</th>  <td>    1.0000</td> <td>    0.291</td> <td>    3.442</td> <td> 0.001</td> <td>    0.429</td> <td>    1.571</td>\n",
       "</tr>\n",
       "</table>\n",
       "<table class=\"simpletable\">\n",
       "<tr>\n",
       "  <th>Omnibus:</th>       <td>342.785</td> <th>  Durbin-Watson:     </th> <td>   1.892</td>\n",
       "</tr>\n",
       "<tr>\n",
       "  <th>Prob(Omnibus):</th> <td> 0.000</td>  <th>  Jarque-Bera (JB):  </th> <td>4550.103</td>\n",
       "</tr>\n",
       "<tr>\n",
       "  <th>Skew:</th>          <td> 2.583</td>  <th>  Prob(JB):          </th> <td>    0.00</td>\n",
       "</tr>\n",
       "<tr>\n",
       "  <th>Kurtosis:</th>      <td>16.263</td>  <th>  Cond. No.          </th> <td>    25.0</td>\n",
       "</tr>\n",
       "</table><br/><br/>Warnings:<br/>[1] Standard Errors assume that the covariance matrix of the errors is correctly specified."
      ],
      "text/plain": [
       "<class 'statsmodels.iolib.summary.Summary'>\n",
       "\"\"\"\n",
       "                            OLS Regression Results                            \n",
       "==============================================================================\n",
       "Dep. Variable:                      y   R-squared:                       0.022\n",
       "Model:                            OLS   Adj. R-squared:                  0.020\n",
       "Method:                 Least Squares   F-statistic:                     11.85\n",
       "Date:                Wed, 22 Jan 2020   Prob (F-statistic):           0.000623\n",
       "Time:                        15:43:59   Log-Likelihood:                -473.08\n",
       "No. Observations:                 539   AIC:                             950.2\n",
       "Df Residuals:                     537   BIC:                             958.7\n",
       "Df Model:                           1                                         \n",
       "Covariance Type:            nonrobust                                         \n",
       "==============================================================================\n",
       "                 coef    std err          t      P>|t|      [0.025      0.975]\n",
       "------------------------------------------------------------------------------\n",
       "Intercept   -1.75e-14      0.313  -5.59e-14      1.000      -0.615       0.615\n",
       "model(x)       1.0000      0.291      3.442      0.001       0.429       1.571\n",
       "==============================================================================\n",
       "Omnibus:                      342.785   Durbin-Watson:                   1.892\n",
       "Prob(Omnibus):                  0.000   Jarque-Bera (JB):             4550.103\n",
       "Skew:                           2.583   Prob(JB):                         0.00\n",
       "Kurtosis:                      16.263   Cond. No.                         25.0\n",
       "==============================================================================\n",
       "\n",
       "Warnings:\n",
       "[1] Standard Errors assume that the covariance matrix of the errors is correctly specified.\n",
       "\"\"\""
      ]
     },
     "execution_count": 192,
     "metadata": {},
     "output_type": "execute_result"
    }
   ],
   "source": [
    "ans = reg_combos(price_cleansed, review_scores_cleanliness)\n",
    "regout = ans[0]\n",
    "y = ans[1]\n",
    "x = ans[2]\n",
    "regout.summary()"
   ]
  },
  {
   "cell_type": "code",
   "execution_count": 188,
   "metadata": {},
   "outputs": [
    {
     "data": {
      "image/png": "[encoded data removed]",
      "text/plain": [
       "<Figure size 432x288 with 1 Axes>"
      ]
     },
     "metadata": {
      "needs_background": "light"
     },
     "output_type": "display_data"
    }
   ],
   "source": [
    "plt.plot(x, y, '*', label='original data')\n",
    "plt.plot(x, reg_out.params[0] + reg_out.params[1]*x, 'r', label='fitted line')\n",
    "plt.legend()\n",
    "plt.show()"
   ]
  },
  {
   "cell_type": "markdown",
   "metadata": {},
   "source": [
    "# Polynomical Regression of Price vs all fields...\n"
   ]
  },
  {
   "cell_type": "code",
   "execution_count": 194,
   "metadata": {},
   "outputs": [
    {
     "name": "stdout",
     "output_type": "stream",
     "text": [
      "bathrooms     0.0275\n",
      "bedrooms      0.0359\n",
      "beds          0.0142\n",
      "review_scores_rating  0.0161\n",
      "review_scores_accuracy  0.0137\n",
      "review_scores_cleanliness  0.0216\n",
      "review_scores_checkin  0.0032\n",
      "review_scores_communication  0.0015\n",
      "review_scores_location  0.0031\n",
      "review_scores_value  0.0011\n"
     ]
    }
   ],
   "source": [
    "r2_price_singlePolyReg = []\n",
    "for i, new_field in enumerate(all_fields):\n",
    "    reg_out_all = reg_combos(price_cleansed, new_field)\n",
    "    r2_price_singlePolyReg.append(reg_out_all)\n",
    "    #print(\"--------------------\")\n",
    "    #print(\"--------------------\")\n",
    "    #print(\"This is a single regression of price vs\".upper(), all_fields_names[i].upper())\n",
    "    \n",
    "    #print(reg_out_all[0].summary()) ### -->> code to print full regression summary\n",
    "    \n",
    "    \n",
    "    print(\"{:<12} {:7.4f}\".format(all_fields_names[i], reg_out_all[0].rsquared)) ### -->> code to print just r2 values\n",
    "    \n",
    "#     y = reg_out_all[1]\n",
    "#     x = reg_out_all[2]\n",
    "#     plt.plot(x, y, '*', label='original data')\n",
    "#     plt.plot(x, reg_out.params[0] + reg_out.params[1]*x, 'r', label='fitted line')\n",
    "#     plt.legend()\n",
    "#     plt.show()"
   ]
  },
  {
   "cell_type": "code",
   "execution_count": null,
   "metadata": {},
   "outputs": [],
   "source": [
    "review_names = [\"Accuracy\", \"Cleanliness\", \"Checkin\", \"Communication\", \"Location\", \"Value\"]\n",
    "review_averages = [9.759248029, 9.611734384, 9.852463988, 9.825829923, 9.688400303, 9.383320697]"
   ]
  },
  {
   "cell_type": "code",
   "execution_count": null,
   "metadata": {},
   "outputs": [],
   "source": []
  },
  {
   "cell_type": "code",
   "execution_count": 219,
   "metadata": {},
   "outputs": [
    {
     "ename": "AttributeError",
     "evalue": "module 'matplotlib.pyplot' has no attribute 'sort'",
     "output_type": "error",
     "traceback": [
      "\u001b[0;31m---------------------------------------------------------------------------\u001b[0m",
      "\u001b[0;31mAttributeError\u001b[0m                            Traceback (most recent call last)",
      "\u001b[0;32m<ipython-input-219-1c0910ecff0a>\u001b[0m in \u001b[0;36m<module>\u001b[0;34m\u001b[0m\n\u001b[1;32m     13\u001b[0m \u001b[0mplt\u001b[0m\u001b[0;34m.\u001b[0m\u001b[0mtitle\u001b[0m\u001b[0;34m(\u001b[0m\u001b[0;34m'Avgerage Airbnb Review Scores in San Fracisco'\u001b[0m\u001b[0;34m)\u001b[0m\u001b[0;34m\u001b[0m\u001b[0;34m\u001b[0m\u001b[0m\n\u001b[1;32m     14\u001b[0m \u001b[0;34m\u001b[0m\u001b[0m\n\u001b[0;32m---> 15\u001b[0;31m \u001b[0mplt\u001b[0m\u001b[0;34m.\u001b[0m\u001b[0msort\u001b[0m\u001b[0;34m(\u001b[0m\u001b[0;34m)\u001b[0m\u001b[0;34m\u001b[0m\u001b[0;34m\u001b[0m\u001b[0m\n\u001b[0m\u001b[1;32m     16\u001b[0m \u001b[0;34m\u001b[0m\u001b[0m\n\u001b[1;32m     17\u001b[0m \u001b[0mplt\u001b[0m\u001b[0;34m.\u001b[0m\u001b[0mshow\u001b[0m\u001b[0;34m(\u001b[0m\u001b[0;34m)\u001b[0m\u001b[0;34m\u001b[0m\u001b[0;34m\u001b[0m\u001b[0m\n",
      "\u001b[0;31mAttributeError\u001b[0m: module 'matplotlib.pyplot' has no attribute 'sort'"
     ]
    },
    {
     "data": {
      "image/png": "[encoded data removed]",
      "text/plain": [
       "<Figure size 640x480 with 1 Axes>"
      ]
     },
     "metadata": {},
     "output_type": "display_data"
    }
   ],
   "source": [
    "import matplotlib.pyplot as plt; plt.rcdefaults()\n",
    "import numpy as np\n",
    "import matplotlib.pyplot as plt\n",
    "\n",
    "objects = [\"Accuracy\", \"Cleanliness\", \"Check-in\", \"Communication\", \"Location\", \"Value\"]\n",
    "y_pos = np.arange(len(objects))\n",
    "performance = [9.759248029, 9.611734384, 9.852463988, 9.825829923, 9.688400303, 9.383320697]\n",
    "\n",
    "\n",
    "plt.barh(y_pos, performance, align='center', alpha=0.5, color=\"red\" )\n",
    "plt.yticks(y_pos, objects)\n",
    "plt.xlabel('Score')\n",
    "plt.title('Avgerage Airbnb Review Scores in San Fracisco')\n",
    "\n",
    "\n",
    "plt.show()\n",
    "\n"
   ]
  },
  {
   "cell_type": "markdown",
   "metadata": {},
   "source": [
    "# Seperate average for price and income by if they got a 10 rating or not\n"
   ]
  },
  {
   "cell_type": "code",
   "execution_count": 243,
   "metadata": {},
   "outputs": [
    {
     "name": "stdout",
     "output_type": "stream",
     "text": [
      "True\n",
      "98.0\n",
      "10.0\n",
      "10.0\n",
      "10.0\n",
      "10.0\n",
      "10.0\n",
      "9.0\n"
     ]
    }
   ],
   "source": [
    "def perfectScore(index, numPerfects):\n",
    "    ans = False\n",
    "    counter = 0\n",
    "    if review_scores_rating[index] == 100:\n",
    "        counter += 1\n",
    "    if review_scores_accuracy[index] == 10:\n",
    "        counter += 1\n",
    "    if review_scores_cleanliness[index] == 10:\n",
    "        counter += 1\n",
    "    if review_scores_checkin[index] == 10:\n",
    "        counter += 1\n",
    "    if review_scores_communication[index] == 10:\n",
    "        counter += 1\n",
    "    if review_scores_location[index] == 10:\n",
    "        counter += 1\n",
    "    if review_scores_value[index] == 10:\n",
    "        counter += 1\n",
    "    if counter >= numPerfects:\n",
    "        ans = True\n",
    "    return ans\n",
    "\n",
    "    \n",
    "i=2\n",
    "print(perfectScore(i,5))\n",
    "print(review_scores_rating[i])\n",
    "print(review_scores_accuracy[i])\n",
    "print(review_scores_cleanliness[i])\n",
    "print(review_scores_checkin[i])\n",
    "print(review_scores_communication[i])\n",
    "print(review_scores_location[i])\n",
    "print(review_scores_value[i])"
   ]
  },
  {
   "cell_type": "markdown",
   "metadata": {},
   "source": [
    "# Seperate Income into 10 and not 10 groups"
   ]
  },
  {
   "cell_type": "code",
   "execution_count": 288,
   "metadata": {},
   "outputs": [],
   "source": [
    "income_cleansed10 = np.array([]) \n",
    "income_cleansed10_avg = np.array([]) \n",
    "income_cleansed_not10 = np.array([]) \n",
    "income_cleansed_not10_avg = np.array([]) \n",
    "for index, element in enumerate(income_cleansed):\n",
    "    if perfectScore(index,7):\n",
    "        income_cleansed10 = np.append(income_cleansed10, element)\n",
    "        income_cleansed_not10 = np.append(income_cleansed_not10, None)#so we maintain proper indexing\n",
    "        if element != None:\n",
    "            income_cleansed10_avg = np.append(income_cleansed10_avg, element) #exclude Nans for average calc\n",
    "    elif not perfectScore(index,7):\n",
    "        income_cleansed_not10 = np.append(income_cleansed_not10, element)\n",
    "        income_cleansed10 = np.append(income_cleansed10, None) #so we maintain proper indexing\n",
    "        if element != None:\n",
    "            income_cleansed_not10_avg = np.append(income_cleansed_not10_avg, element) #exclude Nans for average calc"
   ]
  },
  {
   "cell_type": "code",
   "execution_count": 289,
   "metadata": {},
   "outputs": [
    {
     "data": {
      "text/plain": [
       "1.3162898515797086"
      ]
     },
     "execution_count": 289,
     "metadata": {},
     "output_type": "execute_result"
    }
   ],
   "source": [
    "np.mean(income_cleansed10_avg)"
   ]
  },
  {
   "cell_type": "code",
   "execution_count": 290,
   "metadata": {},
   "outputs": [
    {
     "data": {
      "text/plain": [
       "0.9488182965700044"
      ]
     },
     "execution_count": 290,
     "metadata": {},
     "output_type": "execute_result"
    }
   ],
   "source": [
    "np.mean(income_cleansed_not10_avg)"
   ]
  },
  {
   "cell_type": "markdown",
   "metadata": {},
   "source": [
    "# Seperate Price into 10 and not 10 groups"
   ]
  },
  {
   "cell_type": "code",
   "execution_count": 296,
   "metadata": {},
   "outputs": [],
   "source": [
    "price_cleansed10 = np.array([]) \n",
    "price_cleansed10_avg = np.array([]) \n",
    "price_cleansed_not10 = np.array([]) \n",
    "price_cleansed_not10_avg = np.array([]) \n",
    "for index, element in enumerate(price_cleansed):\n",
    "    if perfectScore(index,7):\n",
    "        price_cleansed10 = np.append(price_cleansed10, element)\n",
    "        price_cleansed_not10 = np.append(price_cleansed_not10, None)#so we maintain proper indexing\n",
    "        if element != None:\n",
    "            price_cleansed10_avg = np.append(price_cleansed10_avg, element) #exclude Nans for average calc\n",
    "    elif not perfectScore(index,7):\n",
    "        price_cleansed_not10 = np.append(price_cleansed_not10, element)\n",
    "        price_cleansed10 = np.append(price_cleansed10, None) #so we maintain proper indexing\n",
    "        if element != None:\n",
    "            price_cleansed_not10_avg = np.append(price_cleansed_not10_avg, element) #exclude Nans for average calc"
   ]
  },
  {
   "cell_type": "code",
   "execution_count": 297,
   "metadata": {},
   "outputs": [
    {
     "data": {
      "text/plain": [
       "1.1142736698738087"
      ]
     },
     "execution_count": 297,
     "metadata": {},
     "output_type": "execute_result"
    }
   ],
   "source": [
    "np.mean(price_cleansed10_avg)"
   ]
  },
  {
   "cell_type": "code",
   "execution_count": 298,
   "metadata": {},
   "outputs": [
    {
     "data": {
      "text/plain": [
       "0.9815083504825491"
      ]
     },
     "execution_count": 298,
     "metadata": {},
     "output_type": "execute_result"
    }
   ],
   "source": [
    "np.mean(price_cleansed_not10_avg)"
   ]
  },
  {
   "cell_type": "markdown",
   "metadata": {},
   "source": [
    "# Multiple Regression for Income10 "
   ]
  },
  {
   "cell_type": "code",
   "execution_count": 292,
   "metadata": {},
   "outputs": [
    {
     "name": "stderr",
     "output_type": "stream",
     "text": [
      "/Users/lizzyhanley/anaconda3/lib/python3.7/site-packages/statsmodels/regression/linear_model.py:1554: RuntimeWarning: invalid value encountered in double_scalars\n",
      "  return self.ess/self.df_model\n"
     ]
    },
    {
     "data": {
      "text/html": [
       "<table class=\"simpletable\">\n",
       "<caption>OLS Regression Results</caption>\n",
       "<tr>\n",
       "  <th>Dep. Variable:</th>            <td>y</td>        <th>  R-squared:         </th> <td>   0.000</td>\n",
       "</tr>\n",
       "<tr>\n",
       "  <th>Model:</th>                   <td>OLS</td>       <th>  Adj. R-squared:    </th> <td>   0.000</td>\n",
       "</tr>\n",
       "<tr>\n",
       "  <th>Method:</th>             <td>Least Squares</td>  <th>  F-statistic:       </th> <td>     nan</td>\n",
       "</tr>\n",
       "<tr>\n",
       "  <th>Date:</th>             <td>Wed, 22 Jan 2020</td> <th>  Prob (F-statistic):</th>  <td>   nan</td> \n",
       "</tr>\n",
       "<tr>\n",
       "  <th>Time:</th>                 <td>23:06:13</td>     <th>  Log-Likelihood:    </th> <td> -2344.2</td>\n",
       "</tr>\n",
       "<tr>\n",
       "  <th>No. Observations:</th>      <td>  1096</td>      <th>  AIC:               </th> <td>   4690.</td>\n",
       "</tr>\n",
       "<tr>\n",
       "  <th>Df Residuals:</th>          <td>  1095</td>      <th>  BIC:               </th> <td>   4695.</td>\n",
       "</tr>\n",
       "<tr>\n",
       "  <th>Df Model:</th>              <td>     0</td>      <th>                     </th>     <td> </td>   \n",
       "</tr>\n",
       "<tr>\n",
       "  <th>Covariance Type:</th>      <td>nonrobust</td>    <th>                     </th>     <td> </td>   \n",
       "</tr>\n",
       "</table>\n",
       "<table class=\"simpletable\">\n",
       "<tr>\n",
       "    <td></td>       <th>coef</th>     <th>std err</th>      <th>t</th>      <th>P>|t|</th>  <th>[0.025</th>    <th>0.975]</th>  \n",
       "</tr>\n",
       "<tr>\n",
       "  <th>const</th> <td>    0.0001</td> <td> 5.86e-06</td> <td>   21.203</td> <td> 0.000</td> <td>    0.000</td> <td>    0.000</td>\n",
       "</tr>\n",
       "<tr>\n",
       "  <th>x1</th>    <td>    0.0124</td> <td>    0.001</td> <td>   21.203</td> <td> 0.000</td> <td>    0.011</td> <td>    0.014</td>\n",
       "</tr>\n",
       "<tr>\n",
       "  <th>x2</th>    <td>    0.0012</td> <td> 5.86e-05</td> <td>   21.203</td> <td> 0.000</td> <td>    0.001</td> <td>    0.001</td>\n",
       "</tr>\n",
       "<tr>\n",
       "  <th>x3</th>    <td>    0.0012</td> <td> 5.86e-05</td> <td>   21.203</td> <td> 0.000</td> <td>    0.001</td> <td>    0.001</td>\n",
       "</tr>\n",
       "<tr>\n",
       "  <th>x4</th>    <td>    0.0012</td> <td> 5.86e-05</td> <td>   21.203</td> <td> 0.000</td> <td>    0.001</td> <td>    0.001</td>\n",
       "</tr>\n",
       "<tr>\n",
       "  <th>x5</th>    <td>    0.0012</td> <td> 5.86e-05</td> <td>   21.203</td> <td> 0.000</td> <td>    0.001</td> <td>    0.001</td>\n",
       "</tr>\n",
       "<tr>\n",
       "  <th>x6</th>    <td>    0.0012</td> <td> 5.86e-05</td> <td>   21.203</td> <td> 0.000</td> <td>    0.001</td> <td>    0.001</td>\n",
       "</tr>\n",
       "<tr>\n",
       "  <th>x7</th>    <td>    0.0012</td> <td> 5.86e-05</td> <td>   21.203</td> <td> 0.000</td> <td>    0.001</td> <td>    0.001</td>\n",
       "</tr>\n",
       "</table>\n",
       "<table class=\"simpletable\">\n",
       "<tr>\n",
       "  <th>Omnibus:</th>       <td>1906.509</td> <th>  Durbin-Watson:     </th>  <td>   1.969</td>  \n",
       "</tr>\n",
       "<tr>\n",
       "  <th>Prob(Omnibus):</th>  <td> 0.000</td>  <th>  Jarque-Bera (JB):  </th> <td>1550787.288</td>\n",
       "</tr>\n",
       "<tr>\n",
       "  <th>Skew:</th>           <td>11.514</td>  <th>  Prob(JB):          </th>  <td>    0.00</td>  \n",
       "</tr>\n",
       "<tr>\n",
       "  <th>Kurtosis:</th>       <td>185.835</td> <th>  Cond. No.          </th>  <td>1.30e+113</td> \n",
       "</tr>\n",
       "</table><br/><br/>Warnings:<br/>[1] Standard Errors assume that the covariance matrix of the errors is correctly specified.<br/>[2] The smallest eigenvalue is 6.87e-220. This might indicate that there are<br/>strong multicollinearity problems or that the design matrix is singular."
      ],
      "text/plain": [
       "<class 'statsmodels.iolib.summary.Summary'>\n",
       "\"\"\"\n",
       "                            OLS Regression Results                            \n",
       "==============================================================================\n",
       "Dep. Variable:                      y   R-squared:                       0.000\n",
       "Model:                            OLS   Adj. R-squared:                  0.000\n",
       "Method:                 Least Squares   F-statistic:                       nan\n",
       "Date:                Wed, 22 Jan 2020   Prob (F-statistic):                nan\n",
       "Time:                        23:06:13   Log-Likelihood:                -2344.2\n",
       "No. Observations:                1096   AIC:                             4690.\n",
       "Df Residuals:                    1095   BIC:                             4695.\n",
       "Df Model:                           0                                         \n",
       "Covariance Type:            nonrobust                                         \n",
       "==============================================================================\n",
       "                 coef    std err          t      P>|t|      [0.025      0.975]\n",
       "------------------------------------------------------------------------------\n",
       "const          0.0001   5.86e-06     21.203      0.000       0.000       0.000\n",
       "x1             0.0124      0.001     21.203      0.000       0.011       0.014\n",
       "x2             0.0012   5.86e-05     21.203      0.000       0.001       0.001\n",
       "x3             0.0012   5.86e-05     21.203      0.000       0.001       0.001\n",
       "x4             0.0012   5.86e-05     21.203      0.000       0.001       0.001\n",
       "x5             0.0012   5.86e-05     21.203      0.000       0.001       0.001\n",
       "x6             0.0012   5.86e-05     21.203      0.000       0.001       0.001\n",
       "x7             0.0012   5.86e-05     21.203      0.000       0.001       0.001\n",
       "==============================================================================\n",
       "Omnibus:                     1906.509   Durbin-Watson:                   1.969\n",
       "Prob(Omnibus):                  0.000   Jarque-Bera (JB):          1550787.288\n",
       "Skew:                          11.514   Prob(JB):                         0.00\n",
       "Kurtosis:                     185.835   Cond. No.                    1.30e+113\n",
       "==============================================================================\n",
       "\n",
       "Warnings:\n",
       "[1] Standard Errors assume that the covariance matrix of the errors is correctly specified.\n",
       "[2] The smallest eigenvalue is 6.87e-220. This might indicate that there are\n",
       "strong multicollinearity problems or that the design matrix is singular.\n",
       "\"\"\""
      ]
     },
     "execution_count": 292,
     "metadata": {},
     "output_type": "execute_result"
    }
   ],
   "source": [
    "#multiple regression for every listing\n",
    "a = mult_reg(income_cleansed10).summary()\n",
    "a"
   ]
  },
  {
   "cell_type": "markdown",
   "metadata": {},
   "source": [
    "# Multiple Regression for Income_NOT10 "
   ]
  },
  {
   "cell_type": "code",
   "execution_count": 293,
   "metadata": {},
   "outputs": [
    {
     "data": {
      "text/html": [
       "<table class=\"simpletable\">\n",
       "<caption>OLS Regression Results</caption>\n",
       "<tr>\n",
       "  <th>Dep. Variable:</th>            <td>y</td>        <th>  R-squared:         </th> <td>   0.012</td> \n",
       "</tr>\n",
       "<tr>\n",
       "  <th>Model:</th>                   <td>OLS</td>       <th>  Adj. R-squared:    </th> <td>   0.011</td> \n",
       "</tr>\n",
       "<tr>\n",
       "  <th>Method:</th>             <td>Least Squares</td>  <th>  F-statistic:       </th> <td>   29.03</td> \n",
       "</tr>\n",
       "<tr>\n",
       "  <th>Date:</th>             <td>Wed, 22 Jan 2020</td> <th>  Prob (F-statistic):</th> <td>2.91e-13</td> \n",
       "</tr>\n",
       "<tr>\n",
       "  <th>Time:</th>                 <td>23:06:21</td>     <th>  Log-Likelihood:    </th> <td> -8069.9</td> \n",
       "</tr>\n",
       "<tr>\n",
       "  <th>No. Observations:</th>      <td>  4947</td>      <th>  AIC:               </th> <td>1.615e+04</td>\n",
       "</tr>\n",
       "<tr>\n",
       "  <th>Df Residuals:</th>          <td>  4944</td>      <th>  BIC:               </th> <td>1.617e+04</td>\n",
       "</tr>\n",
       "<tr>\n",
       "  <th>Df Model:</th>              <td>     2</td>      <th>                     </th>     <td> </td>    \n",
       "</tr>\n",
       "<tr>\n",
       "  <th>Covariance Type:</th>      <td>nonrobust</td>    <th>                     </th>     <td> </td>    \n",
       "</tr>\n",
       "</table>\n",
       "<table class=\"simpletable\">\n",
       "<tr>\n",
       "    <td></td>       <th>coef</th>     <th>std err</th>      <th>t</th>      <th>P>|t|</th>  <th>[0.025</th>    <th>0.975]</th>  \n",
       "</tr>\n",
       "<tr>\n",
       "  <th>const</th> <td>   -0.7129</td> <td>    0.235</td> <td>   -3.039</td> <td> 0.002</td> <td>   -1.173</td> <td>   -0.253</td>\n",
       "</tr>\n",
       "<tr>\n",
       "  <th>x1</th>    <td>    0.0150</td> <td>    0.003</td> <td>    4.659</td> <td> 0.000</td> <td>    0.009</td> <td>    0.021</td>\n",
       "</tr>\n",
       "<tr>\n",
       "  <th>x2</th>    <td>    0.0050</td> <td>    0.005</td> <td>    0.928</td> <td> 0.353</td> <td>   -0.006</td> <td>    0.015</td>\n",
       "</tr>\n",
       "<tr>\n",
       "  <th>x3</th>    <td>    0.0050</td> <td>    0.005</td> <td>    0.928</td> <td> 0.353</td> <td>   -0.006</td> <td>    0.015</td>\n",
       "</tr>\n",
       "<tr>\n",
       "  <th>x4</th>    <td>    0.0050</td> <td>    0.005</td> <td>    0.928</td> <td> 0.353</td> <td>   -0.006</td> <td>    0.015</td>\n",
       "</tr>\n",
       "<tr>\n",
       "  <th>x5</th>    <td>    0.0050</td> <td>    0.005</td> <td>    0.928</td> <td> 0.353</td> <td>   -0.006</td> <td>    0.015</td>\n",
       "</tr>\n",
       "<tr>\n",
       "  <th>x6</th>    <td>    0.0050</td> <td>    0.005</td> <td>    0.928</td> <td> 0.353</td> <td>   -0.006</td> <td>    0.015</td>\n",
       "</tr>\n",
       "<tr>\n",
       "  <th>x7</th>    <td>    0.0050</td> <td>    0.005</td> <td>    0.928</td> <td> 0.353</td> <td>   -0.006</td> <td>    0.015</td>\n",
       "</tr>\n",
       "</table>\n",
       "<table class=\"simpletable\">\n",
       "<tr>\n",
       "  <th>Omnibus:</th>       <td>9416.326</td> <th>  Durbin-Watson:     </th>   <td>   1.925</td>  \n",
       "</tr>\n",
       "<tr>\n",
       "  <th>Prob(Omnibus):</th>  <td> 0.000</td>  <th>  Jarque-Bera (JB):  </th> <td>42524593.643</td>\n",
       "</tr>\n",
       "<tr>\n",
       "  <th>Skew:</th>           <td>14.148</td>  <th>  Prob(JB):          </th>   <td>    0.00</td>  \n",
       "</tr>\n",
       "<tr>\n",
       "  <th>Kurtosis:</th>       <td>456.326</td> <th>  Cond. No.          </th>   <td>5.71e+80</td>  \n",
       "</tr>\n",
       "</table><br/><br/>Warnings:<br/>[1] Standard Errors assume that the covariance matrix of the errors is correctly specified.<br/>[2] The smallest eigenvalue is 1.45e-154. This might indicate that there are<br/>strong multicollinearity problems or that the design matrix is singular."
      ],
      "text/plain": [
       "<class 'statsmodels.iolib.summary.Summary'>\n",
       "\"\"\"\n",
       "                            OLS Regression Results                            \n",
       "==============================================================================\n",
       "Dep. Variable:                      y   R-squared:                       0.012\n",
       "Model:                            OLS   Adj. R-squared:                  0.011\n",
       "Method:                 Least Squares   F-statistic:                     29.03\n",
       "Date:                Wed, 22 Jan 2020   Prob (F-statistic):           2.91e-13\n",
       "Time:                        23:06:21   Log-Likelihood:                -8069.9\n",
       "No. Observations:                4947   AIC:                         1.615e+04\n",
       "Df Residuals:                    4944   BIC:                         1.617e+04\n",
       "Df Model:                           2                                         \n",
       "Covariance Type:            nonrobust                                         \n",
       "==============================================================================\n",
       "                 coef    std err          t      P>|t|      [0.025      0.975]\n",
       "------------------------------------------------------------------------------\n",
       "const         -0.7129      0.235     -3.039      0.002      -1.173      -0.253\n",
       "x1             0.0150      0.003      4.659      0.000       0.009       0.021\n",
       "x2             0.0050      0.005      0.928      0.353      -0.006       0.015\n",
       "x3             0.0050      0.005      0.928      0.353      -0.006       0.015\n",
       "x4             0.0050      0.005      0.928      0.353      -0.006       0.015\n",
       "x5             0.0050      0.005      0.928      0.353      -0.006       0.015\n",
       "x6             0.0050      0.005      0.928      0.353      -0.006       0.015\n",
       "x7             0.0050      0.005      0.928      0.353      -0.006       0.015\n",
       "==============================================================================\n",
       "Omnibus:                     9416.326   Durbin-Watson:                   1.925\n",
       "Prob(Omnibus):                  0.000   Jarque-Bera (JB):         42524593.643\n",
       "Skew:                          14.148   Prob(JB):                         0.00\n",
       "Kurtosis:                     456.326   Cond. No.                     5.71e+80\n",
       "==============================================================================\n",
       "\n",
       "Warnings:\n",
       "[1] Standard Errors assume that the covariance matrix of the errors is correctly specified.\n",
       "[2] The smallest eigenvalue is 1.45e-154. This might indicate that there are\n",
       "strong multicollinearity problems or that the design matrix is singular.\n",
       "\"\"\""
      ]
     },
     "execution_count": 293,
     "metadata": {},
     "output_type": "execute_result"
    }
   ],
   "source": [
    "#multiple regression for every listing\n",
    "a = mult_reg(income_cleansed_not10).summary()\n",
    "a"
   ]
  },
  {
   "cell_type": "markdown",
   "metadata": {},
   "source": [
    "# Multiple Regression for Price10 "
   ]
  },
  {
   "cell_type": "code",
   "execution_count": 294,
   "metadata": {},
   "outputs": [
    {
     "name": "stderr",
     "output_type": "stream",
     "text": [
      "/Users/lizzyhanley/anaconda3/lib/python3.7/site-packages/statsmodels/regression/linear_model.py:1554: RuntimeWarning: divide by zero encountered in double_scalars\n",
      "  return self.ess/self.df_model\n"
     ]
    },
    {
     "data": {
      "text/html": [
       "<table class=\"simpletable\">\n",
       "<caption>OLS Regression Results</caption>\n",
       "<tr>\n",
       "  <th>Dep. Variable:</th>            <td>y</td>        <th>  R-squared:         </th> <td>   0.000</td>\n",
       "</tr>\n",
       "<tr>\n",
       "  <th>Model:</th>                   <td>OLS</td>       <th>  Adj. R-squared:    </th> <td>   0.000</td>\n",
       "</tr>\n",
       "<tr>\n",
       "  <th>Method:</th>             <td>Least Squares</td>  <th>  F-statistic:       </th> <td>     inf</td>\n",
       "</tr>\n",
       "<tr>\n",
       "  <th>Date:</th>             <td>Wed, 22 Jan 2020</td> <th>  Prob (F-statistic):</th>  <td>   nan</td> \n",
       "</tr>\n",
       "<tr>\n",
       "  <th>Time:</th>                 <td>23:06:45</td>     <th>  Log-Likelihood:    </th> <td> -1714.3</td>\n",
       "</tr>\n",
       "<tr>\n",
       "  <th>No. Observations:</th>      <td>  1096</td>      <th>  AIC:               </th> <td>   3431.</td>\n",
       "</tr>\n",
       "<tr>\n",
       "  <th>Df Residuals:</th>          <td>  1095</td>      <th>  BIC:               </th> <td>   3436.</td>\n",
       "</tr>\n",
       "<tr>\n",
       "  <th>Df Model:</th>              <td>     0</td>      <th>                     </th>     <td> </td>   \n",
       "</tr>\n",
       "<tr>\n",
       "  <th>Covariance Type:</th>      <td>nonrobust</td>    <th>                     </th>     <td> </td>   \n",
       "</tr>\n",
       "</table>\n",
       "<table class=\"simpletable\">\n",
       "<tr>\n",
       "    <td></td>       <th>coef</th>     <th>std err</th>      <th>t</th>      <th>P>|t|</th>  <th>[0.025</th>    <th>0.975]</th>  \n",
       "</tr>\n",
       "<tr>\n",
       "  <th>const</th> <td>    0.0001</td> <td>  3.3e-06</td> <td>   31.890</td> <td> 0.000</td> <td> 9.86e-05</td> <td>    0.000</td>\n",
       "</tr>\n",
       "<tr>\n",
       "  <th>x1</th>    <td>    0.0105</td> <td>    0.000</td> <td>   31.890</td> <td> 0.000</td> <td>    0.010</td> <td>    0.011</td>\n",
       "</tr>\n",
       "<tr>\n",
       "  <th>x2</th>    <td>    0.0011</td> <td>  3.3e-05</td> <td>   31.890</td> <td> 0.000</td> <td>    0.001</td> <td>    0.001</td>\n",
       "</tr>\n",
       "<tr>\n",
       "  <th>x3</th>    <td>    0.0011</td> <td>  3.3e-05</td> <td>   31.890</td> <td> 0.000</td> <td>    0.001</td> <td>    0.001</td>\n",
       "</tr>\n",
       "<tr>\n",
       "  <th>x4</th>    <td>    0.0011</td> <td>  3.3e-05</td> <td>   31.890</td> <td> 0.000</td> <td>    0.001</td> <td>    0.001</td>\n",
       "</tr>\n",
       "<tr>\n",
       "  <th>x5</th>    <td>    0.0011</td> <td>  3.3e-05</td> <td>   31.890</td> <td> 0.000</td> <td>    0.001</td> <td>    0.001</td>\n",
       "</tr>\n",
       "<tr>\n",
       "  <th>x6</th>    <td>    0.0011</td> <td>  3.3e-05</td> <td>   31.890</td> <td> 0.000</td> <td>    0.001</td> <td>    0.001</td>\n",
       "</tr>\n",
       "<tr>\n",
       "  <th>x7</th>    <td>    0.0011</td> <td>  3.3e-05</td> <td>   31.890</td> <td> 0.000</td> <td>    0.001</td> <td>    0.001</td>\n",
       "</tr>\n",
       "</table>\n",
       "<table class=\"simpletable\">\n",
       "<tr>\n",
       "  <th>Omnibus:</th>       <td>1720.090</td> <th>  Durbin-Watson:     </th>  <td>   1.859</td> \n",
       "</tr>\n",
       "<tr>\n",
       "  <th>Prob(Omnibus):</th>  <td> 0.000</td>  <th>  Jarque-Bera (JB):  </th> <td>843274.557</td>\n",
       "</tr>\n",
       "<tr>\n",
       "  <th>Skew:</th>           <td> 9.447</td>  <th>  Prob(JB):          </th>  <td>    0.00</td> \n",
       "</tr>\n",
       "<tr>\n",
       "  <th>Kurtosis:</th>       <td>137.569</td> <th>  Cond. No.          </th>  <td>1.30e+113</td>\n",
       "</tr>\n",
       "</table><br/><br/>Warnings:<br/>[1] Standard Errors assume that the covariance matrix of the errors is correctly specified.<br/>[2] The smallest eigenvalue is 6.87e-220. This might indicate that there are<br/>strong multicollinearity problems or that the design matrix is singular."
      ],
      "text/plain": [
       "<class 'statsmodels.iolib.summary.Summary'>\n",
       "\"\"\"\n",
       "                            OLS Regression Results                            \n",
       "==============================================================================\n",
       "Dep. Variable:                      y   R-squared:                       0.000\n",
       "Model:                            OLS   Adj. R-squared:                  0.000\n",
       "Method:                 Least Squares   F-statistic:                       inf\n",
       "Date:                Wed, 22 Jan 2020   Prob (F-statistic):                nan\n",
       "Time:                        23:06:45   Log-Likelihood:                -1714.3\n",
       "No. Observations:                1096   AIC:                             3431.\n",
       "Df Residuals:                    1095   BIC:                             3436.\n",
       "Df Model:                           0                                         \n",
       "Covariance Type:            nonrobust                                         \n",
       "==============================================================================\n",
       "                 coef    std err          t      P>|t|      [0.025      0.975]\n",
       "------------------------------------------------------------------------------\n",
       "const          0.0001    3.3e-06     31.890      0.000    9.86e-05       0.000\n",
       "x1             0.0105      0.000     31.890      0.000       0.010       0.011\n",
       "x2             0.0011    3.3e-05     31.890      0.000       0.001       0.001\n",
       "x3             0.0011    3.3e-05     31.890      0.000       0.001       0.001\n",
       "x4             0.0011    3.3e-05     31.890      0.000       0.001       0.001\n",
       "x5             0.0011    3.3e-05     31.890      0.000       0.001       0.001\n",
       "x6             0.0011    3.3e-05     31.890      0.000       0.001       0.001\n",
       "x7             0.0011    3.3e-05     31.890      0.000       0.001       0.001\n",
       "==============================================================================\n",
       "Omnibus:                     1720.090   Durbin-Watson:                   1.859\n",
       "Prob(Omnibus):                  0.000   Jarque-Bera (JB):           843274.557\n",
       "Skew:                           9.447   Prob(JB):                         0.00\n",
       "Kurtosis:                     137.569   Cond. No.                    1.30e+113\n",
       "==============================================================================\n",
       "\n",
       "Warnings:\n",
       "[1] Standard Errors assume that the covariance matrix of the errors is correctly specified.\n",
       "[2] The smallest eigenvalue is 6.87e-220. This might indicate that there are\n",
       "strong multicollinearity problems or that the design matrix is singular.\n",
       "\"\"\""
      ]
     },
     "execution_count": 294,
     "metadata": {},
     "output_type": "execute_result"
    }
   ],
   "source": [
    "#multiple regression for every listing\n",
    "a = mult_reg(price_cleansed10).summary()\n",
    "a"
   ]
  },
  {
   "cell_type": "markdown",
   "metadata": {},
   "source": [
    "# Multiple Regression for Pirce_NOT10 "
   ]
  },
  {
   "cell_type": "code",
   "execution_count": 295,
   "metadata": {},
   "outputs": [
    {
     "data": {
      "text/html": [
       "<table class=\"simpletable\">\n",
       "<caption>OLS Regression Results</caption>\n",
       "<tr>\n",
       "  <th>Dep. Variable:</th>            <td>y</td>        <th>  R-squared:         </th> <td>   0.000</td>\n",
       "</tr>\n",
       "<tr>\n",
       "  <th>Model:</th>                   <td>OLS</td>       <th>  Adj. R-squared:    </th> <td>   0.000</td>\n",
       "</tr>\n",
       "<tr>\n",
       "  <th>Method:</th>             <td>Least Squares</td>  <th>  F-statistic:       </th> <td>     inf</td>\n",
       "</tr>\n",
       "<tr>\n",
       "  <th>Date:</th>             <td>Wed, 22 Jan 2020</td> <th>  Prob (F-statistic):</th>  <td>   nan</td> \n",
       "</tr>\n",
       "<tr>\n",
       "  <th>Time:</th>                 <td>23:06:47</td>     <th>  Log-Likelihood:    </th> <td> -1714.3</td>\n",
       "</tr>\n",
       "<tr>\n",
       "  <th>No. Observations:</th>      <td>  1096</td>      <th>  AIC:               </th> <td>   3431.</td>\n",
       "</tr>\n",
       "<tr>\n",
       "  <th>Df Residuals:</th>          <td>  1095</td>      <th>  BIC:               </th> <td>   3436.</td>\n",
       "</tr>\n",
       "<tr>\n",
       "  <th>Df Model:</th>              <td>     0</td>      <th>                     </th>     <td> </td>   \n",
       "</tr>\n",
       "<tr>\n",
       "  <th>Covariance Type:</th>      <td>nonrobust</td>    <th>                     </th>     <td> </td>   \n",
       "</tr>\n",
       "</table>\n",
       "<table class=\"simpletable\">\n",
       "<tr>\n",
       "    <td></td>       <th>coef</th>     <th>std err</th>      <th>t</th>      <th>P>|t|</th>  <th>[0.025</th>    <th>0.975]</th>  \n",
       "</tr>\n",
       "<tr>\n",
       "  <th>const</th> <td>    0.0001</td> <td>  3.3e-06</td> <td>   31.890</td> <td> 0.000</td> <td> 9.86e-05</td> <td>    0.000</td>\n",
       "</tr>\n",
       "<tr>\n",
       "  <th>x1</th>    <td>    0.0105</td> <td>    0.000</td> <td>   31.890</td> <td> 0.000</td> <td>    0.010</td> <td>    0.011</td>\n",
       "</tr>\n",
       "<tr>\n",
       "  <th>x2</th>    <td>    0.0011</td> <td>  3.3e-05</td> <td>   31.890</td> <td> 0.000</td> <td>    0.001</td> <td>    0.001</td>\n",
       "</tr>\n",
       "<tr>\n",
       "  <th>x3</th>    <td>    0.0011</td> <td>  3.3e-05</td> <td>   31.890</td> <td> 0.000</td> <td>    0.001</td> <td>    0.001</td>\n",
       "</tr>\n",
       "<tr>\n",
       "  <th>x4</th>    <td>    0.0011</td> <td>  3.3e-05</td> <td>   31.890</td> <td> 0.000</td> <td>    0.001</td> <td>    0.001</td>\n",
       "</tr>\n",
       "<tr>\n",
       "  <th>x5</th>    <td>    0.0011</td> <td>  3.3e-05</td> <td>   31.890</td> <td> 0.000</td> <td>    0.001</td> <td>    0.001</td>\n",
       "</tr>\n",
       "<tr>\n",
       "  <th>x6</th>    <td>    0.0011</td> <td>  3.3e-05</td> <td>   31.890</td> <td> 0.000</td> <td>    0.001</td> <td>    0.001</td>\n",
       "</tr>\n",
       "<tr>\n",
       "  <th>x7</th>    <td>    0.0011</td> <td>  3.3e-05</td> <td>   31.890</td> <td> 0.000</td> <td>    0.001</td> <td>    0.001</td>\n",
       "</tr>\n",
       "</table>\n",
       "<table class=\"simpletable\">\n",
       "<tr>\n",
       "  <th>Omnibus:</th>       <td>1720.090</td> <th>  Durbin-Watson:     </th>  <td>   1.859</td> \n",
       "</tr>\n",
       "<tr>\n",
       "  <th>Prob(Omnibus):</th>  <td> 0.000</td>  <th>  Jarque-Bera (JB):  </th> <td>843274.557</td>\n",
       "</tr>\n",
       "<tr>\n",
       "  <th>Skew:</th>           <td> 9.447</td>  <th>  Prob(JB):          </th>  <td>    0.00</td> \n",
       "</tr>\n",
       "<tr>\n",
       "  <th>Kurtosis:</th>       <td>137.569</td> <th>  Cond. No.          </th>  <td>1.30e+113</td>\n",
       "</tr>\n",
       "</table><br/><br/>Warnings:<br/>[1] Standard Errors assume that the covariance matrix of the errors is correctly specified.<br/>[2] The smallest eigenvalue is 6.87e-220. This might indicate that there are<br/>strong multicollinearity problems or that the design matrix is singular."
      ],
      "text/plain": [
       "<class 'statsmodels.iolib.summary.Summary'>\n",
       "\"\"\"\n",
       "                            OLS Regression Results                            \n",
       "==============================================================================\n",
       "Dep. Variable:                      y   R-squared:                       0.000\n",
       "Model:                            OLS   Adj. R-squared:                  0.000\n",
       "Method:                 Least Squares   F-statistic:                       inf\n",
       "Date:                Wed, 22 Jan 2020   Prob (F-statistic):                nan\n",
       "Time:                        23:06:47   Log-Likelihood:                -1714.3\n",
       "No. Observations:                1096   AIC:                             3431.\n",
       "Df Residuals:                    1095   BIC:                             3436.\n",
       "Df Model:                           0                                         \n",
       "Covariance Type:            nonrobust                                         \n",
       "==============================================================================\n",
       "                 coef    std err          t      P>|t|      [0.025      0.975]\n",
       "------------------------------------------------------------------------------\n",
       "const          0.0001    3.3e-06     31.890      0.000    9.86e-05       0.000\n",
       "x1             0.0105      0.000     31.890      0.000       0.010       0.011\n",
       "x2             0.0011    3.3e-05     31.890      0.000       0.001       0.001\n",
       "x3             0.0011    3.3e-05     31.890      0.000       0.001       0.001\n",
       "x4             0.0011    3.3e-05     31.890      0.000       0.001       0.001\n",
       "x5             0.0011    3.3e-05     31.890      0.000       0.001       0.001\n",
       "x6             0.0011    3.3e-05     31.890      0.000       0.001       0.001\n",
       "x7             0.0011    3.3e-05     31.890      0.000       0.001       0.001\n",
       "==============================================================================\n",
       "Omnibus:                     1720.090   Durbin-Watson:                   1.859\n",
       "Prob(Omnibus):                  0.000   Jarque-Bera (JB):           843274.557\n",
       "Skew:                           9.447   Prob(JB):                         0.00\n",
       "Kurtosis:                     137.569   Cond. No.                    1.30e+113\n",
       "==============================================================================\n",
       "\n",
       "Warnings:\n",
       "[1] Standard Errors assume that the covariance matrix of the errors is correctly specified.\n",
       "[2] The smallest eigenvalue is 6.87e-220. This might indicate that there are\n",
       "strong multicollinearity problems or that the design matrix is singular.\n",
       "\"\"\""
      ]
     },
     "execution_count": 295,
     "metadata": {},
     "output_type": "execute_result"
    }
   ],
   "source": [
    "#multiple regression for every listing\n",
    "a = mult_reg(price_cleansed10).summary()\n",
    "a"
   ]
  },
  {
   "cell_type": "code",
   "execution_count": null,
   "metadata": {},
   "outputs": [],
   "source": []
  }
 ],
 "metadata": {
  "kernelspec": {
   "display_name": "Python 3",
   "language": "python",
   "name": "python3"
  },
  "language_info": {
   "codemirror_mode": {
    "name": "ipython",
    "version": 3
   },
   "file_extension": ".py",
   "mimetype": "text/x-python",
   "name": "python",
   "nbconvert_exporter": "python",
   "pygments_lexer": "ipython3",
   "version": "3.7.1"
  }
 },
 "nbformat": 4,
 "nbformat_minor": 2
}
